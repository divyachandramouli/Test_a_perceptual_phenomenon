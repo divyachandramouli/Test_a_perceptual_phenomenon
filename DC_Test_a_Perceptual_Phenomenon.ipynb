
# coding: utf-8

# ### Analyzing the Stroop Effect
# Perform the analysis in the space below. Remember to follow [the instructions](https://docs.google.com/document/d/1-OkpZLjG_kX9J6LIQ5IltsqMzVWjh36QpnP2RYpVdPU/pub?embedded=True) and review the [project rubric](https://review.udacity.com/#!/rubrics/71/view) before submitting. Once you've completed the analysis and write up, download this file as a PDF or HTML file and submit in the final section of this lesson.
# 
# 
# (1) What is the independent variable? What is the dependent variable?

# <font color = 'blue'>
# The independent variable here is the congruency/incongruency - whether the color of the font and the word match or not.
# <br>
#     
# The dependent variable is the time it takes a participant to name the ink colors in equally-sized lists - this variable is measured in the experiment. The congruency (independent variable) is being changed to observe the effect it has on the dependent variable (reaction time).

# (2) What is an appropriate set of hypotheses for this task? Specify your null and alternative hypotheses, and clearly define any notation used. Justify your choices.

# <font color = 'blue'>
#     
# Let t denote the reaction time taken to read the ink colors
# 
# Ho: Null Hypothesis: 
# <br>
# The congruency / incongruency (font color and word matching or not matching) does not have an effect on the reaction time taken to read the ink colors. 
# <br>
# $$ H_0: t_{incongruent} = t_{congruent} $$
#     
# H1: Alternate Hypothesis:
# <br>
# The reaction time when the condition is incongruent (font color and word do not match) is more than the reaction time for the congruent condition (font color and word match)
# <br>
# $$ H_0: t_{incongruent} > t_{congruent} $$
# <br>
# 
# A one-tailed paired t-test would be appropriate for this case. A t test is justified because the sample size is less than 30, population variance is unknown, and a paired test makes sense since same participants take the test in the congruent and incongruent conditions. 
# A one-tailed test seems reasonable as it is intutive that one would find it difficult/take longer to read the words when the color and word don't match because of the distraction in color, compared to a case where the word reads the same as the ink color. So, incongruent conditions will not help decrease the reaction time. 

# (3) Report some descriptive statistics regarding this dataset. Include at least one measure of central tendency and at least one measure of variability. The name of the data file is 'stroopdata.csv'.

# In[17]:


# Basic statistics
import pandas as pd
import numpy as np
import scipy.stats as stats
df=pd.read_csv("stroopdata.csv")
df.describe()


# In[7]:


# Median reaction time 
df.median()


# In[9]:


# Range of reaction time when the word and color match
max(df['Congruent'])-min(df['Congruent'])


# In[11]:


# Range of reaction time when the word and color do not match
max(df['Incongruent'])-min(df['Incongruent'])


# In[16]:


#Variance of reaction time for congruent and incongruent conditions
np.var(df['Congruent']),np.var(df['Incongruent'])


# In[18]:


#Interquartile range of reaction time for congruent and incongruent conditions
stats.iqr(df['Congruent']),stats.iqr(df['Incongruent'])


# <font color = 'blue'>
#     **Measures of central tendency:**
#     <br>    
#     Mean reaction time for font color and word match: 14.0511 s
#     <br>
#     Mean reaction time for font color and word not matching: 22.0159 s
#     <br>
#     <br>
#     Median reaction time for font color and word match: 14.3565 sec
#     <br>
#     Median reaction time for font color and word not matching: 21.0175 s 
#      <br> 
#      Maximum reaction time for font color and word match: 22.328 s
#     <br>
#      Maximum reaction time for font color and word not matching: 35.255 s
#     <br>
#     <br>
#     **Measures of spread/variability:**
#     <br>
#     <br>
#     Range of reaction time when the word and color match:13.698 s
#     <br>
#     Range of reaction time when the word and color do not match:19.568 s
#     <br> 
#     <br>
#     Standard deviation of reaction time when the word and color match: 12.1411 s
#     <br>
#     Standard deviation of reaction time when the word and color do not match: 22.0529 s
#     <br> 
#     <br>
#     Interquartile range of reaction time when the word and color match: 4.3055 s
#     <br>
#     Interquartile range of reaction time when the word and color do not match: 5.3347 s
#     

# (4) Provide one or two visualizations that show the distribution of the sample data. Write one or two sentences noting what you observe about the plot or plots.

# In[55]:


# Build the visualizations here
import seaborn as sns
import matplotlib.pyplot as plt
plt.hist(df['Congruent'], color='blue'); 
plt.title("Histogram of reaction time when font color and word match (congruent condition)");
plt.ylabel("Frequency");


# In[53]:


plt.hist(df['Incongruent'],color='red'); 
plt.title("Histogram of reaction time when font color and word do not match (Incongruent condition)");
plt.ylabel("Frequency");


# In[54]:


plt.hist((df['Congruent'],df['Incongruent']),label=("Congruent","Incongruent"),color=('blue','red'));
plt.title("Reaction time - Stroop effect experiment");
plt.ylabel("Frequency");
plt.legend();


# In[43]:


plt.boxplot((df['Congruent'],df['Incongruent']), labels=("Congruent","Incongruent"));
plt.ylabel("Reaction time (seconds)");
plt.title("Reaction time - Stroop effect experiment");


# <font color ='blue'>
#     Both the groups have significantly different median times and different ranges.The reaction time for the incongruent case  appears to be right skewed with an outlier on the extreme right.

# (5)  Now, perform the statistical test and report your results. What is your confidence level or Type I error associated with your test? What is your conclusion regarding the hypotheses you set up? Did the results match up with your expectations? **Hint:**  Think about what is being measured on each individual, and what statistic best captures how an individual reacts in each environment.

# In[82]:


# Calculation of t statistic

diff=df['Congruent']-df['Incongruent']
sum_diff=sum(diff)
sqdiff=diff*diff
sum_sqdiff=sum(sqdiff)
n=df.shape[0]
t= (sum_diff/n)/np.sqrt((sum_sqdiff-((sum_diff*sum_diff)/n))/(n*(n-1)))
t


# In[83]:


# Degrees of freedom

deg_freedom=n-1
deg_freedom


# <font color = 'blue'>
#     The value from the t-table for one tailed test at degrees of freedome 23, level of significance = 0.05/2 = 0.025 in each tail, is -2.069,+2.069 
#     <br>
#     Since the obtained t statistic value is -8.0207, greater than the critical value, we can reject the null hypothesis
#     

# In[80]:


# t test using scipy.stats - This is a 2 tailed test
stats.ttest_rel(df['Congruent'],df['Incongruent'])


# <font color ='blue'>
#     
#    The calculated t statistic is greater than the critical value, therefore we reject the null hypothesis. This means there is a statistically significant difference in the reaction times for congruent and incongruent conditions. The reaction time for the incongruent condition is significantly higher than reaction time for the congruent condition

# (6) Optional: What do you think is responsible for the effects observed? Can you think of an alternative or similar task that would result in a similar effect? Some research about the problem will be helpful for thinking about these two questions!

# <font color ='blue'>
#     The intereference of perceiving the color while the mind tries to read the word could cause the stroop effect, in my understanding.  The pace at which both these processes occur may not be the same. The brain may need to repeat one of the processes to get it right once the error is recognized.
#     
#    <br>
# Another task where a similar effect could be observed is when asked to count the number of words in a box and not read the words themselves - The "Number Stroop effect"

# <font color ='blue'> 
#    Resources:
#    <br>
#    
# [http://www.statisticshowto.com/probability-and-statistics/t-test/#PairedTTest](Hidden_landing_URL)
#     <br>
#     [https://docs.scipy.org/doc/scipy-0.19.0/reference/generated/scipy.stats.ttest_rel.html](Hidden_landing_URL)
#     <br>
#   [https://en.wikipedia.org/wiki/Student%27s_t-test#Dependent_t-test](Hidden_landing_URL)
#     <br>
# [https://en.wikipedia.org/wiki/Stroop_effect](Hidden_landing_URL)
#     <br>
#     [https://faculty.washington.edu/chudler/java/readyn.html](Hidden_landing_URL)
